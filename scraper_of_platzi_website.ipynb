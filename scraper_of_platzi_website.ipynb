{
  "nbformat": 4,
  "nbformat_minor": 0,
  "metadata": {
    "colab": {
      "name": "scraper-of-platzi-website.ipynb",
      "provenance": [],
      "collapsed_sections": [],
      "authorship_tag": "ABX9TyM5r7UnfRuk0wVIUxfEdaF0",
      "include_colab_link": true
    },
    "kernelspec": {
      "name": "python3",
      "display_name": "Python 3"
    },
    "language_info": {
      "name": "python"
    }
  },
  "cells": [
    {
      "cell_type": "markdown",
      "metadata": {
        "id": "view-in-github",
        "colab_type": "text"
      },
      "source": [
        "<a href=\"https://colab.research.google.com/github/dico-pieu11/scraper-of-platzi-website/blob/main/scraper_of_platzi_website.ipynb\" target=\"_parent\"><img src=\"https://colab.research.google.com/assets/colab-badge.svg\" alt=\"Open In Colab\"/></a>"
      ]
    },
    {
      "cell_type": "markdown",
      "metadata": {
        "id": "87PizICKWsnJ"
      },
      "source": [
        "## Imports"
      ]
    },
    {
      "cell_type": "code",
      "metadata": {
        "id": "qioTjCPMFbA3"
      },
      "source": [
        "import requests\n",
        "import lxml.html as html\n",
        "from timeit import default_timer"
      ],
      "execution_count": null,
      "outputs": []
    },
    {
      "cell_type": "markdown",
      "metadata": {
        "id": "Hczf2HcGWvlQ"
      },
      "source": [
        "## Variables"
      ]
    },
    {
      "cell_type": "code",
      "metadata": {
        "id": "SjfOKIHiFX2W"
      },
      "source": [
        "#Constantes de xpath\n",
        "HOME_URL = 'https://platzi.com'\n",
        "XPATH_LINK_TO_CATEGORYS = '//div[@class=\"CategoriesSection\"]/div/a/@href'\n",
        "XPATH_NAME_CATEGORYS = '//div[@class=\"CategoriesSection\"]/div/a/text()'\n",
        "\n",
        "LINKS_TO_ROUTES = '//div[@class=\"LearningPathsList-content\"]/a/@href'\n",
        "\n",
        "NAMES_ROUTES = '//div[@class=\"Hero-route\"]/div[@class=\"Hero-route-head\"]//h1/text()'\n",
        "IMAGES_ROUTES = '//div[@class=\"Hero-route\"]/div[@class=\"Hero-route-head\"]//img/@src'\n",
        "DESCRS_ROUTES = '//div[@class=\"Hero-route\"]/div[@class=\"Hero-route-desc\"]/span/text()'\n",
        "\n",
        "XPATH_LEVELS = '//div[@class=\"RoutesList\"]'\n",
        "TITTLE_LEVEL = '//div[@class=\"RoutesList\"][{index}]/h3/text()'\n",
        "NAMES_LEVEL = '//div[@class=\"RoutesList\"][{index}]//div[@class=\"RoutesList-level\"]/span/text()'\n",
        "PROYECTS_LEVEL = '//div[@class=\"RoutesList\"][{index}]//h4[@class=\"Projects-info-name\"]/text()'\n",
        "\n",
        "IMAGES_COURSES = '//div[@class=\"RoutesList\"][{index}]//a[@class=\"RoutesList-item\"]//img/@src'\n",
        "NAMES_COURSES = '//div[@class=\"RoutesList\"][{index}]//a[@class=\"RoutesList-item\"]/h4/text()'\n",
        "LINKS_TO_COURSES = '//div[@class=\"RoutesList\"][{index}]//a[@class=\"RoutesList-item\"]/@href'\n",
        "\n",
        "XPATH_MODULES = '//div[@class=\"Content-wrapper u-wrapper\"]//div[@class=\"ContentBlock\"]'\n",
        "NAMES_MODULES = '//div[@class=\"Content-wrapper u-wrapper\"]//div[@class=\"ContentBlock\"][{index}]//h3[@class=\"ContentBlock-head-title\"]/text()'\n",
        "NAME_CLASS_MODULES = '//div[@class=\"Content-wrapper u-wrapper\"]//div[@class=\"ContentBlock\"][{index}]//a//span/text()'\n",
        "\n",
        "#Variables de contenido\n",
        "linksCategorys = []\n",
        "namesCategorys = []\n",
        "\n",
        "linksRoutes = {}\n",
        "\n",
        "namesRoutes = {}\n",
        "imagesRoutes = {}\n",
        "descrsRoutes = {}\n",
        "\n",
        "levelsPaths = {}\n",
        "\n",
        "modulesCourses = {}\n",
        "\n",
        "#Variables de archivo\n",
        "fileCategorys = {}\n",
        "filePaths = {}\n",
        "fileCourses = {}\n"
      ],
      "execution_count": null,
      "outputs": []
    },
    {
      "cell_type": "markdown",
      "metadata": {
        "id": "LlJvpiN8ZFDf"
      },
      "source": [
        "## Parse Course"
      ]
    },
    {
      "cell_type": "code",
      "metadata": {
        "id": "BdCZmEuvmIOb"
      },
      "source": [
        "def parse_course(link, idCourse):\n",
        "  global fileCourses\n",
        "  global modulesCourses\n",
        "\n",
        "  try:\n",
        "    response = requests.get(link)\n",
        "    if response.status_code == 200:\n",
        "      curso = response.content.decode('utf-8')\n",
        "      parsed = html.fromstring(curso)\n",
        "      Modules = parsed.xpath(XPATH_MODULES)\n",
        "      \n",
        "      modulesCourses[idCourse]=[]\n",
        "\n",
        "      for i in range(len(Modules)):\n",
        "        try:\n",
        "          nameModule = parsed.xpath(NAMES_MODULES.replace('{index}',str(i+1)))[0]\n",
        "        except IndexError:\n",
        "          nameModule = ''\n",
        "          \n",
        "        nameClassModule = parsed.xpath(NAME_CLASS_MODULES.replace('{index}',str(i+1)))\n",
        "        modulesCourses[idCourse].append([nameModule, nameClassModule])\n",
        "\n",
        "      fileCourses[idCourse].append(modulesCourses[idCourse])\n",
        "    else:\n",
        "      raise ValueError(f'Error: {response.status_code}')\n",
        "  except ValueError as ve:\n",
        "    print(ve, ' - ',link)"
      ],
      "execution_count": null,
      "outputs": []
    },
    {
      "cell_type": "markdown",
      "metadata": {
        "id": "P9HmS2D7W1gg"
      },
      "source": [
        "## Parse Courses"
      ]
    },
    {
      "cell_type": "code",
      "metadata": {
        "id": "yEHQP7sqZA4Y"
      },
      "source": [
        "def parse_courses():\n",
        "  global fileCourses\n",
        "  \n",
        "  for idCourse in fileCourses:\n",
        "    parse_course(HOME_URL+'/cursos/'+idCourse,idCourse)\n"
      ],
      "execution_count": null,
      "outputs": []
    },
    {
      "cell_type": "markdown",
      "metadata": {
        "id": "S7xq5XRdW5UB"
      },
      "source": [
        "## Parse Route"
      ]
    },
    {
      "cell_type": "code",
      "metadata": {
        "id": "CD1shM1Ok_u9"
      },
      "source": [
        "def parse_route(link, idRoute, idCategory):\n",
        "  global filePaths\n",
        "  global fileCourses\n",
        "\n",
        "  global namesRoutes\n",
        "  global imagesRoutes\n",
        "  global descrsRoutes\n",
        "\n",
        "  global levelsPaths\n",
        "\n",
        "  try:\n",
        "    response = requests.get(link)\n",
        "\n",
        "    if response.status_code == 200:\n",
        "      route = response.content.decode('utf-8')\n",
        "      parsed = html.fromstring(route)\n",
        "\n",
        "      namesRoutes[idRoute] = parsed.xpath(NAMES_ROUTES)[0]\n",
        "      imagesRoutes[idRoute] = parsed.xpath(IMAGES_ROUTES)[0]\n",
        "      descrsRoutes[idRoute] = parsed.xpath(DESCRS_ROUTES)[0]\n",
        "      \n",
        "      levelsPath = parsed.xpath(XPATH_LEVELS)\n",
        "\n",
        "      levelsPaths[idRoute]=[]\n",
        "      for i in range(len(levelsPath)):\n",
        "        tittleLevel = parsed.xpath(TITTLE_LEVEL.replace('{index}',str(i+1)))[0]\n",
        "        namesLevel = parsed.xpath(NAMES_LEVEL.replace('{index}',str(i+1)))[0]\n",
        "        \n",
        "        imgCourses = parsed.xpath(IMAGES_COURSES.replace('{index}',str(i+1)))\n",
        "        nameCourses = parsed.xpath(NAMES_COURSES.replace('{index}',str(i+1)))\n",
        "        linkCourses = parsed.xpath(LINKS_TO_COURSES.replace('{index}',str(i+1)))\n",
        "\n",
        "        idCourses = [link.replace('/cursos/','').replace('/','') for link in linkCourses]\n",
        "\n",
        "        for index in range(len(idCourses)):\n",
        "          idCourse = idCourses[index]\n",
        "          url = linkCourses[index]\n",
        "          name = nameCourses[index]\n",
        "          img = imgCourses[index]\n",
        "\n",
        "          try:\n",
        "            x = fileCourses[idCourse]\n",
        "          except KeyError:\n",
        "            fileCourses[idCourse]=[]\n",
        "            fileCourses[idCourse].append(url)\n",
        "            fileCourses[idCourse].append(name)\n",
        "            fileCourses[idCourse].append(img)\n",
        "            \n",
        "          if len(fileCourses[idCourse])==3:\n",
        "            fileCourses[idCourse].append([idRoute])\n",
        "          else:\n",
        "            if idRoute not in fileCourses[idCourse][3]:\n",
        "              fileCourses[idCourse][3].append(idRoute)\n",
        "\n",
        "\n",
        "          try:\n",
        "            proyectLevel = parsed.xpath(PROYECTS_LEVEL.replace('{index}',str(i+1)))[0]\n",
        "          except:\n",
        "            proyectLevel = False\n",
        "\n",
        "        levelsPaths[idRoute].append([tittleLevel, namesLevel, idCourses, proyectLevel])\n",
        "\n",
        "\n",
        "      url = link.replace('https://platzi.com','')\n",
        "      filePaths[idRoute]=[url, namesRoutes[idRoute], imagesRoutes[idRoute], idCategory, descrsRoutes[idRoute], levelsPaths[idRoute]]\n",
        "    else:\n",
        "      raise ValueError(f'Error: {response.status_code}')\n",
        "  except ValueError as ve:\n",
        "    print(ve, ' - ',link)"
      ],
      "execution_count": null,
      "outputs": []
    },
    {
      "cell_type": "markdown",
      "metadata": {
        "id": "-QVYY6aGW82w"
      },
      "source": [
        "## Parse links Routes"
      ]
    },
    {
      "cell_type": "code",
      "metadata": {
        "id": "BSnPuCQDd92T"
      },
      "source": [
        "def parse_link_routes(link, idCategory):\n",
        "  global linksRoutes\n",
        "\n",
        "  try:\n",
        "    response = requests.get(link)\n",
        "    \n",
        "    if response.status_code == 200:\n",
        "      category = response.content.decode('utf-8')\n",
        "      parsed = html.fromstring(category)\n",
        "      linksRoutes[idCategory] = parsed.xpath(LINKS_TO_ROUTES)\n",
        "      \n",
        "      paths = []\n",
        "      for url in linksRoutes[idCategory]:\n",
        "        idRoute = url.replace('/','')\n",
        "        paths.append(idRoute)\n",
        "        parse_route(HOME_URL+url, idRoute, idCategory)\n",
        "\n",
        "      return paths\n",
        "    else:\n",
        "      raise ValueError(f'Error: {response.status_code}')\n",
        "  except ValueError as ve:\n",
        "    print(ve, ' - ',link)"
      ],
      "execution_count": null,
      "outputs": []
    },
    {
      "cell_type": "markdown",
      "metadata": {
        "id": "2zzHw34bXCMp"
      },
      "source": [
        "## Parse Home"
      ]
    },
    {
      "cell_type": "code",
      "metadata": {
        "id": "65f2VZudVMjp"
      },
      "source": [
        "def parse_home():\n",
        "  global fileCategorys\n",
        "  \n",
        "  global linksCategorys\n",
        "  global namesCategorys\n",
        "\n",
        "  try:\n",
        "    response = requests.get(HOME_URL)\n",
        "    if response.status_code == 200:\n",
        "      home = response.content.decode('utf-8')\n",
        "      parsed = html.fromstring(home)\n",
        "      linksCategorys = parsed.xpath(XPATH_LINK_TO_CATEGORYS)\n",
        "      namesCategorys = parsed.xpath(XPATH_NAME_CATEGORYS)\n",
        "      \n",
        "      for index in range(len(linksCategorys)):\n",
        "        url = linksCategorys[index]\n",
        "        idCategory = url.replace('/categorias/','').replace('/','')\n",
        "        name = namesCategorys[index]\n",
        "\n",
        "        paths = parse_link_routes(HOME_URL+url, idCategory)\n",
        "        fileCategorys[idCategory]=[url, name, paths]\n",
        "    else:\n",
        "      raise ValueError(f'Error: {response.status_code}')\n",
        "  except ValueError as ve:\n",
        "    print(ve, ' - ',HOME_URL)"
      ],
      "execution_count": null,
      "outputs": []
    },
    {
      "cell_type": "markdown",
      "metadata": {
        "id": "_3HWbSA6XFWI"
      },
      "source": [
        "## Entrada"
      ]
    },
    {
      "cell_type": "code",
      "metadata": {
        "id": "hFIgC8F_Fzkc"
      },
      "source": [
        "def run():\n",
        "  parse_home()\n",
        "  parse_courses()"
      ],
      "execution_count": null,
      "outputs": []
    },
    {
      "cell_type": "code",
      "metadata": {
        "id": "gbf8Bkd4oEvP"
      },
      "source": [
        "def scraper():\n",
        "  run()"
      ],
      "execution_count": null,
      "outputs": []
    },
    {
      "cell_type": "markdown",
      "metadata": {
        "id": "o2v8PRu2t9hl"
      },
      "source": [
        "## Files and Timer"
      ]
    },
    {
      "cell_type": "code",
      "metadata": {
        "id": "AMNc3Xtotr8W"
      },
      "source": [
        "inicio = default_timer()\n",
        "scraper()\n",
        "fin = default_timer()\n",
        "time = fin - inicio\n",
        "print('Timer ___________________________________________________________________')\n",
        "print(time)\n",
        "print('\\n')\n",
        "print('File of Categorys ___________________________________________________________________')\n",
        "print(fileCategorys)\n",
        "print('\\n')\n",
        "print('File of Paths ___________________________________________________________________')\n",
        "print(filePaths)\n",
        "print('\\n')\n",
        "print('File of Courses ___________________________________________________________________')\n",
        "print(fileCourses)\n"
      ],
      "execution_count": null,
      "outputs": []
    }
  ]
}